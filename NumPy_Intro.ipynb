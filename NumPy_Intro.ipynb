{
  "nbformat": 4,
  "nbformat_minor": 0,
  "metadata": {
    "colab": {
      "provenance": [],
      "authorship_tag": "ABX9TyMMFQqo+ZoOYynhgDLj2fGN",
      "include_colab_link": true
    },
    "kernelspec": {
      "name": "python3",
      "display_name": "Python 3"
    },
    "language_info": {
      "name": "python"
    }
  },
  "cells": [
    {
      "cell_type": "markdown",
      "metadata": {
        "id": "view-in-github",
        "colab_type": "text"
      },
      "source": [
        "<a href=\"https://colab.research.google.com/github/KARPPAKAVALLI/ML_Projects/blob/main/NumPy_Intro.ipynb\" target=\"_parent\"><img src=\"https://colab.research.google.com/assets/colab-badge.svg\" alt=\"Open In Colab\"/></a>"
      ]
    },
    {
      "cell_type": "markdown",
      "source": [
        "**NUMPY ADVANTAGES:**\n",
        "\n",
        "\n",
        "*   Better memory management.\n",
        "*   Faster execution.\n",
        "*   Highly efficient array operations.\n",
        "\n",
        "\n",
        "\n"
      ],
      "metadata": {
        "id": "8A9QEMg0iBN2"
      }
    },
    {
      "cell_type": "markdown",
      "source": [
        "\n",
        "\n",
        "---\n",
        "\n",
        "NOTE: ARR MEANS NUMPY ARRAY (in this ipynb)\n",
        "\n",
        "\n",
        "---\n",
        "\n"
      ],
      "metadata": {
        "id": "afmNxIYYBdAe"
      }
    },
    {
      "cell_type": "markdown",
      "source": [
        "**IMPORT**"
      ],
      "metadata": {
        "id": "uYcWPTk2igyw"
      }
    },
    {
      "cell_type": "code",
      "source": [
        "import numpy as np"
      ],
      "metadata": {
        "id": "jPYP4E83idbY"
      },
      "execution_count": 2,
      "outputs": []
    },
    {
      "cell_type": "markdown",
      "source": [
        "**CREATION**"
      ],
      "metadata": {
        "id": "lg45X59OBnPw"
      }
    },
    {
      "cell_type": "code",
      "source": [
        "eg=[1,2,3,4,5]\n",
        "print(eg)\n",
        "print(type(eg))"
      ],
      "metadata": {
        "colab": {
          "base_uri": "https://localhost:8080/"
        },
        "id": "wGQCv9ncisbA",
        "outputId": "b855f85f-652b-43ec-fef9-2b4996f1b068"
      },
      "execution_count": 3,
      "outputs": [
        {
          "output_type": "stream",
          "name": "stdout",
          "text": [
            "[1, 2, 3, 4, 5]\n",
            "<class 'list'>\n"
          ]
        }
      ]
    },
    {
      "cell_type": "code",
      "source": [
        "ar=np.array(eg)\n",
        "print(ar)\n",
        "print(type(ar))"
      ],
      "metadata": {
        "colab": {
          "base_uri": "https://localhost:8080/"
        },
        "id": "r2cjK_AxiyKR",
        "outputId": "4a617589-c766-4145-869f-04cb6db4e037"
      },
      "execution_count": 4,
      "outputs": [
        {
          "output_type": "stream",
          "name": "stdout",
          "text": [
            "[1 2 3 4 5]\n",
            "<class 'numpy.ndarray'>\n"
          ]
        }
      ]
    },
    {
      "cell_type": "markdown",
      "source": [
        "**ARRAY WITH ALL ELEMS AS ZEROS**"
      ],
      "metadata": {
        "id": "7S3BeChgBsQK"
      }
    },
    {
      "cell_type": "code",
      "source": [
        "np.zeros(5)"
      ],
      "metadata": {
        "colab": {
          "base_uri": "https://localhost:8080/"
        },
        "id": "VOvo9Gw9jEkH",
        "outputId": "e1db4cc3-b747-431e-d017-41ee23bc1657"
      },
      "execution_count": 5,
      "outputs": [
        {
          "output_type": "execute_result",
          "data": {
            "text/plain": [
              "array([0., 0., 0., 0., 0.])"
            ]
          },
          "metadata": {},
          "execution_count": 5
        }
      ]
    },
    {
      "cell_type": "code",
      "source": [
        "np.zeros(5,int)"
      ],
      "metadata": {
        "colab": {
          "base_uri": "https://localhost:8080/"
        },
        "id": "2ue8TNUFjOGz",
        "outputId": "d520866d-a4c2-4fc9-8a1b-033e3929edd0"
      },
      "execution_count": 6,
      "outputs": [
        {
          "output_type": "execute_result",
          "data": {
            "text/plain": [
              "array([0, 0, 0, 0, 0])"
            ]
          },
          "metadata": {},
          "execution_count": 6
        }
      ]
    },
    {
      "cell_type": "markdown",
      "source": [
        "**ARRAY WITH ALL ELEMS AS ONES**"
      ],
      "metadata": {
        "id": "Qh--sz7aBzDf"
      }
    },
    {
      "cell_type": "code",
      "source": [
        "np.ones(3)"
      ],
      "metadata": {
        "colab": {
          "base_uri": "https://localhost:8080/"
        },
        "id": "1oo58woPjaJM",
        "outputId": "f75d8cb3-afc5-40d6-a2cc-debde3edfa62"
      },
      "execution_count": 7,
      "outputs": [
        {
          "output_type": "execute_result",
          "data": {
            "text/plain": [
              "array([1., 1., 1.])"
            ]
          },
          "metadata": {},
          "execution_count": 7
        }
      ]
    },
    {
      "cell_type": "code",
      "source": [
        "np.ones(3,int)"
      ],
      "metadata": {
        "colab": {
          "base_uri": "https://localhost:8080/"
        },
        "id": "M8nC8ffKjdCm",
        "outputId": "6f391e87-a7e2-4770-a9e7-65ba5e5cab5f"
      },
      "execution_count": 8,
      "outputs": [
        {
          "output_type": "execute_result",
          "data": {
            "text/plain": [
              "array([1, 1, 1])"
            ]
          },
          "metadata": {},
          "execution_count": 8
        }
      ]
    },
    {
      "cell_type": "markdown",
      "source": [
        "**ZERO BASED INDEXING**"
      ],
      "metadata": {
        "id": "4yb8olC5jpd7"
      }
    },
    {
      "cell_type": "code",
      "source": [
        "demo=np.array([10,25,38])\n",
        "demo[0]"
      ],
      "metadata": {
        "colab": {
          "base_uri": "https://localhost:8080/"
        },
        "id": "BQk0DYNRjkyv",
        "outputId": "a04e7a10-fcff-444c-e41f-2061786c0f7e"
      },
      "execution_count": 9,
      "outputs": [
        {
          "output_type": "execute_result",
          "data": {
            "text/plain": [
              "10"
            ]
          },
          "metadata": {},
          "execution_count": 9
        }
      ]
    },
    {
      "cell_type": "markdown",
      "source": [
        "**FINDING DATAYPE OF NUMPY ARRAY ELEMENTS**"
      ],
      "metadata": {
        "id": "KPFJZkiLkCYI"
      }
    },
    {
      "cell_type": "code",
      "source": [
        "demo.dtype"
      ],
      "metadata": {
        "colab": {
          "base_uri": "https://localhost:8080/"
        },
        "id": "Lc4MJXM7juoL",
        "outputId": "699b3864-ad09-4ad0-9520-f538bdcbe638"
      },
      "execution_count": 10,
      "outputs": [
        {
          "output_type": "execute_result",
          "data": {
            "text/plain": [
              "dtype('int64')"
            ]
          },
          "metadata": {},
          "execution_count": 10
        }
      ]
    },
    {
      "cell_type": "markdown",
      "source": [
        "**CAN CONTAIN ONLY HOMOGENEOUS TYPE**\n",
        "\n",
        "\n",
        "> i.e:- elements in a numpy arr should b of same type\n",
        "\n"
      ],
      "metadata": {
        "id": "hMQPexW4kVAF"
      }
    },
    {
      "cell_type": "code",
      "source": [
        "demo[1]=\"abc\""
      ],
      "metadata": {
        "colab": {
          "base_uri": "https://localhost:8080/",
          "height": 175
        },
        "id": "gfMmkL3hkRYj",
        "outputId": "5d61864c-a493-4c23-8330-03546cb258b0"
      },
      "execution_count": 11,
      "outputs": [
        {
          "output_type": "error",
          "ename": "ValueError",
          "evalue": "ignored",
          "traceback": [
            "\u001b[0;31m---------------------------------------------------------------------------\u001b[0m",
            "\u001b[0;31mValueError\u001b[0m                                Traceback (most recent call last)",
            "\u001b[0;32m<ipython-input-11-f7bc521f51ce>\u001b[0m in \u001b[0;36m<cell line: 1>\u001b[0;34m()\u001b[0m\n\u001b[0;32m----> 1\u001b[0;31m \u001b[0mdemo\u001b[0m\u001b[0;34m[\u001b[0m\u001b[0;36m1\u001b[0m\u001b[0;34m]\u001b[0m\u001b[0;34m=\u001b[0m\u001b[0;34m\"abc\"\u001b[0m\u001b[0;34m\u001b[0m\u001b[0;34m\u001b[0m\u001b[0m\n\u001b[0m",
            "\u001b[0;31mValueError\u001b[0m: invalid literal for int() with base 10: 'abc'"
          ]
        }
      ]
    },
    {
      "cell_type": "markdown",
      "source": [
        "**MULTI-DIM NUMPY ARR**"
      ],
      "metadata": {
        "id": "jj3SKVGP_8Dp"
      }
    },
    {
      "cell_type": "code",
      "source": [
        "a=np.zeros((2,3)) #NOTE: two paranthesis\n",
        "a"
      ],
      "metadata": {
        "colab": {
          "base_uri": "https://localhost:8080/"
        },
        "id": "YFZMcOQk_6Vx",
        "outputId": "a3db830e-ab2e-4e8b-8caa-3a03d4e0166a"
      },
      "execution_count": 13,
      "outputs": [
        {
          "output_type": "execute_result",
          "data": {
            "text/plain": [
              "array([[0., 0., 0.],\n",
              "       [0., 0., 0.]])"
            ]
          },
          "metadata": {},
          "execution_count": 13
        }
      ]
    },
    {
      "cell_type": "code",
      "source": [
        "b=np.zeros((4,2,5))\n",
        "b\n",
        "# 4 - arr of arr of arr\n",
        "# 2 - each outer arr has two inner arr\n",
        "# 5 - no.of cols / no. of elems in a single arr"
      ],
      "metadata": {
        "colab": {
          "base_uri": "https://localhost:8080/"
        },
        "id": "0cMBcjxdAIGB",
        "outputId": "a8a1a7ef-92e8-413b-f05a-a286d0a2be3f"
      },
      "execution_count": 14,
      "outputs": [
        {
          "output_type": "execute_result",
          "data": {
            "text/plain": [
              "array([[[0., 0., 0., 0., 0.],\n",
              "        [0., 0., 0., 0., 0.]],\n",
              "\n",
              "       [[0., 0., 0., 0., 0.],\n",
              "        [0., 0., 0., 0., 0.]],\n",
              "\n",
              "       [[0., 0., 0., 0., 0.],\n",
              "        [0., 0., 0., 0., 0.]],\n",
              "\n",
              "       [[0., 0., 0., 0., 0.],\n",
              "        [0., 0., 0., 0., 0.]]])"
            ]
          },
          "metadata": {},
          "execution_count": 14
        }
      ]
    },
    {
      "cell_type": "markdown",
      "source": [
        "**SHAPE FN - GIVES DIM OF AN ARR**"
      ],
      "metadata": {
        "id": "h6Me3pB0B3tK"
      }
    },
    {
      "cell_type": "code",
      "source": [
        "a.shape"
      ],
      "metadata": {
        "colab": {
          "base_uri": "https://localhost:8080/"
        },
        "id": "B_gx2sexAxvp",
        "outputId": "773fe0b4-fe5d-46ff-b9ac-ae2305833903"
      },
      "execution_count": 15,
      "outputs": [
        {
          "output_type": "execute_result",
          "data": {
            "text/plain": [
              "(2, 3)"
            ]
          },
          "metadata": {},
          "execution_count": 15
        }
      ]
    },
    {
      "cell_type": "code",
      "source": [
        "b.shape"
      ],
      "metadata": {
        "colab": {
          "base_uri": "https://localhost:8080/"
        },
        "id": "ikYri2AhA0vC",
        "outputId": "6c58af7d-b5bf-41ed-8a16-194f02eea6d2"
      },
      "execution_count": 16,
      "outputs": [
        {
          "output_type": "execute_result",
          "data": {
            "text/plain": [
              "(4, 2, 5)"
            ]
          },
          "metadata": {},
          "execution_count": 16
        }
      ]
    },
    {
      "cell_type": "markdown",
      "source": [
        "**ARR SLICING**"
      ],
      "metadata": {
        "id": "ecxRqT3xBCMt"
      }
    },
    {
      "cell_type": "code",
      "source": [
        "eg=np.array([2,5,3,1,7])\n",
        "eg[1:4] #index 1 to 3 (till n-1)"
      ],
      "metadata": {
        "colab": {
          "base_uri": "https://localhost:8080/"
        },
        "id": "kuxW9QmLBG4b",
        "outputId": "52a38622-44f8-414b-ecc3-9f1b7382eb9e"
      },
      "execution_count": 17,
      "outputs": [
        {
          "output_type": "execute_result",
          "data": {
            "text/plain": [
              "array([5, 3, 1])"
            ]
          },
          "metadata": {},
          "execution_count": 17
        }
      ]
    },
    {
      "cell_type": "markdown",
      "source": [
        "**NEGATIVE INDICES**"
      ],
      "metadata": {
        "id": "ObV50WMXBW5Z"
      }
    },
    {
      "cell_type": "code",
      "source": [
        "eg[-1]"
      ],
      "metadata": {
        "colab": {
          "base_uri": "https://localhost:8080/"
        },
        "id": "NDmUO2eCBBn9",
        "outputId": "03a091ab-d143-4c2e-bb4b-63359f0cf97f"
      },
      "execution_count": 18,
      "outputs": [
        {
          "output_type": "execute_result",
          "data": {
            "text/plain": [
              "7"
            ]
          },
          "metadata": {},
          "execution_count": 18
        }
      ]
    }
  ]
}